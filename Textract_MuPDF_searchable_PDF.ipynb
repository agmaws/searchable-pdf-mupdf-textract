{
 "cells": [
  {
   "cell_type": "markdown",
   "metadata": {},
   "source": [
    "# Create PDF Image to Searchable PDF using Textract and MuPDF "
   ]
  },
  {
   "cell_type": "markdown",
   "metadata": {},
   "source": [
    "Install MuPDF Library"
   ]
  },
  {
   "cell_type": "code",
   "execution_count": null,
   "metadata": {},
   "outputs": [],
   "source": [
    "! pip install PyMuPDF --upgrade"
   ]
  },
  {
   "cell_type": "markdown",
   "metadata": {},
   "source": [
    "Install Textract convenience tools from TRP"
   ]
  },
  {
   "cell_type": "code",
   "execution_count": null,
   "metadata": {},
   "outputs": [],
   "source": [
    "!pip install amazon-textract-caller"
   ]
  },
  {
   "cell_type": "markdown",
   "metadata": {},
   "source": [
    "Replace \\<YOUR_BUCKET_NAME\\> with your bucket name <BR>\n",
    "Upload your pdf and put the filename in \\<YOUR INPUT PDF FILENAME\\> <BR>\n",
    "Set your output filename in \\<YOUR OUTPUT PDF FILENAME\\>"
   ]
  },
  {
   "cell_type": "code",
   "execution_count": null,
   "metadata": {},
   "outputs": [],
   "source": [
    "bucket_uri = \"<YOUR_BUCKET_NAME?>/temp\"\n",
    "filename = \"<YOUR INPUT PDF FILENAME>\"\n",
    "output_name = \"<YOUR OUTPUT PDF FILENAME>\"\n",
    "\n",
    "s3_uri = f\"s3://{bucket_uri}/{filename}\""
   ]
  },
  {
   "cell_type": "markdown",
   "metadata": {},
   "source": [
    "Copy local PDF to S3"
   ]
  },
  {
   "cell_type": "code",
   "execution_count": null,
   "metadata": {},
   "outputs": [],
   "source": [
    "! aws s3 cp $filename $s3_uri"
   ]
  },
  {
   "cell_type": "code",
   "execution_count": null,
   "metadata": {},
   "outputs": [],
   "source": [
    "import json\n",
    "import trp\n",
    "from trp import Document\n",
    "from textractcaller import call_textract\n",
    "\n",
    "# Using convenience library, call textract on the PDF\n",
    "textract_json = call_textract(input_document=s3_uri)\n",
    "textract_doc = trp.Document(textract_json)"
   ]
  },
  {
   "cell_type": "code",
   "execution_count": null,
   "metadata": {},
   "outputs": [],
   "source": [
    "import fitz\n",
    "import re, string\n",
    "\n",
    "# Open the PDF in MuPDF\n",
    "doc = fitz.open(filename)\n",
    "\n",
    "curpage = 0\n",
    "draw_box = False\n",
    "redbox_color = (1, 0, 0)\n",
    "\n",
    "# Iterate through each page in mupdf and the corresponding page from textract response\n",
    "\n",
    "for page in doc:\n",
    "    # Get current textract page info\n",
    "    textract_page = textract_doc.pages[curpage]\n",
    "    # Get page width and height from mupdf\n",
    "    page_width = page.rect.width\n",
    "    page_height = page.rect.height\n",
    "    # Iterate through each line of text from Textract\n",
    "    for line in textract_page.lines:\n",
    "        # Get bounding box for the line\n",
    "        line_geo = line.geometry.boundingBox\n",
    "        # Calculate coordinates on page using the height/width  \n",
    "        p1_x = int(page_width * line_geo.left)\n",
    "        p1_y = int(page_height * line_geo.top)\n",
    "        p2_x = int((line_geo.left + line_geo.width) * page_width)\n",
    "        p2_y = int((line_geo.top + line_geo.height) * page_height)\n",
    "        # Create a rectangle for text population\n",
    "        WHERE = fitz.Rect(p1_x, p1_y, p2_x, p2_y)\n",
    "        #print(f\"Inserting text {line.text} {p1_x},{p1_y} {p2_x},{p2_y}\")\n",
    "        # Reset origin for page\n",
    "        if not page.is_wrapped:\n",
    "            page.wrap_contents()\n",
    "        # Draw a rectangle for the bounding box\n",
    "        if draw_box:\n",
    "            page.draw_rect(WHERE,color=redbox_color)\n",
    "        # Start with large font size of 300 keep attempting to insert text into textbox \n",
    "        # with smaller font sizes until one fits entirely i.e. non negative result\n",
    "        font_size = 300\n",
    "        # Attempt to write invisible text i.e. render_mode=3\n",
    "        res = page.insert_textbox(WHERE, line.text, fontsize=font_size, render_mode=3)\n",
    "        while res<0:\n",
    "            font_size -= 1\n",
    "            res = page.insert_textbox(WHERE, line.text, fontsize=font_size, render_mode=3)\n",
    "    # Increase page number\n",
    "    curpage += 1\n",
    "# Save modified PDF\n",
    "doc.save(output_name)"
   ]
  },
  {
   "cell_type": "code",
   "execution_count": null,
   "metadata": {},
   "outputs": [],
   "source": []
  }
 ],
 "metadata": {
  "instance_type": "ml.t3.medium",
  "kernelspec": {
   "display_name": "Python 3 (Data Science)",
   "language": "python",
   "name": "python3__SAGEMAKER_INTERNAL__arn:aws:sagemaker:us-east-1:081325390199:image/datascience-1.0"
  },
  "language_info": {
   "codemirror_mode": {
    "name": "ipython",
    "version": 3
   },
   "file_extension": ".py",
   "mimetype": "text/x-python",
   "name": "python",
   "nbconvert_exporter": "python",
   "pygments_lexer": "ipython3",
   "version": "3.7.10"
  }
 },
 "nbformat": 4,
 "nbformat_minor": 4
}
